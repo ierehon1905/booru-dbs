{
 "cells": [
  {
   "cell_type": "markdown",
   "metadata": {},
   "source": [
    "# Booru scraper"
   ]
  },
  {
   "cell_type": "code",
   "execution_count": null,
   "metadata": {},
   "outputs": [],
   "source": [
    "import json\n",
    "import pandas as pd\n",
    "import time\n",
    "import requests\n",
    "import numpy as np\n",
    "import sqlite3"
   ]
  },
  {
   "cell_type": "code",
   "execution_count": null,
   "metadata": {},
   "outputs": [],
   "source": [
    "connection = sqlite3.connect(\"booru.db\")\n"
   ]
  },
  {
   "cell_type": "code",
   "execution_count": null,
   "metadata": {},
   "outputs": [],
   "source": [
    "limit = 1000\n",
    "# get url for user and page\n",
    "\n",
    "\n",
    "def get_url(user, page):\n",
    "    return (\n",
    "        f\"https://gelbooru.com/index.php?page=dapi&q=index&json=1&limit={limit}&\"\n",
    "        + f\"s=post&tags=fav:{user}&pid={page}&\"\n",
    "        + \"api_key=c3ca8d6069fba65a4fd6e81e412712c6607215b3f4710e62f6ee3de44a8350df&user_id=347815\"\n",
    "    )\n",
    "\n",
    "\n",
    "max_id = connection.execute(\"SELECT MAX(user_id) FROM users\").fetchone()[0]\n",
    "id_to_start = max_id if max_id >= 1 else 1\n",
    "for user_id in range(id_to_start, 1_000_000):\n",
    "    print(f\"User: {user_id}\")\n",
    "    page = 0\n",
    "    user_favs = pd.DataFrame()\n",
    "    print(\"Page: \", end=\"\")\n",
    "    while True:\n",
    "        print(f\"{page}; \", end=\"\")\n",
    "        url = get_url(user_id, page)\n",
    "        response = requests.request(\"GET\", url)\n",
    "        try:\n",
    "            response = response.json()\n",
    "        except json.decoder.JSONDecodeError as e:\n",
    "            print(response.text)\n",
    "            break\n",
    "        if \"post\" not in response:\n",
    "            break\n",
    "        user_favs = user_favs.append(pd.DataFrame(response[\"post\"]))\n",
    "        count = response[\"@attributes\"][\"count\"]\n",
    "        page += 1\n",
    "        if page * limit > count:\n",
    "            break\n",
    "    print(\"\")\n",
    "    if len(user_favs) == 0:\n",
    "        continue\n",
    "\n",
    "    connection.execute(\"INSERT OR IGNORE INTO users (user_id) VALUES (?)\", (user_id,))\n",
    "\n",
    "    save_start_time = time.time_ns() // 1000000\n",
    "    user_favs.replace(\n",
    "        {\"True\": True, \"False\": False, \"true\": True, \"false\": False}, inplace=True\n",
    "    )\n",
    "    connection.executemany(\n",
    "        \"INSERT OR IGNORE INTO posts (id, created_at, score, width, height, md5, directory, image, rating, source, change, owner, creator_id, parent_id, sample, preview_height, preview_width, tags, title, has_notes, has_comments, file_url, preview_url, sample_url, sample_height, sample_width, status, post_locked, has_children) \"\n",
    "        + \"VALUES (?,?,?,?,?,?,?,?,?,?,?,?,?,?,?,?,?,?,?,?,?,?,?,?,?,?,?,?,?)\",\n",
    "        user_favs.values.tolist(),\n",
    "    )\n",
    "\n",
    "    user_favs[\"user_id\"] = user_id\n",
    "    connection.executemany(\n",
    "        \"INSERT OR IGNORE INTO favs (user_id, post_id) VALUES (?, ?)\",\n",
    "        user_favs[[\"user_id\", \"id\"]].rename(columns={\"id\": \"post_id\"}).values.tolist(),\n",
    "    )\n",
    "    connection.commit()\n",
    "\n",
    "    save_duration = time.time_ns() // 1000000 - save_start_time\n",
    "    print(f\"Saved in {save_duration} ms\")\n"
   ]
  }
 ],
 "metadata": {
  "interpreter": {
   "hash": "8c19cd92f403803e92f2d37245f844fad41e0398618111dd6c0c0ed93f1b6d23"
  },
  "kernelspec": {
   "display_name": "Python 3.8.12 64-bit ('3.8.12')",
   "language": "python",
   "name": "python3"
  },
  "language_info": {
   "codemirror_mode": {
    "name": "ipython",
    "version": 3
   },
   "file_extension": ".py",
   "mimetype": "text/x-python",
   "name": "python",
   "nbconvert_exporter": "python",
   "pygments_lexer": "ipython3",
   "version": "3.8.12"
  },
  "orig_nbformat": 4
 },
 "nbformat": 4,
 "nbformat_minor": 2
}
